{
 "cells": [
  {
   "cell_type": "code",
   "execution_count": 38,
   "metadata": {},
   "outputs": [
    {
     "name": "stdout",
     "output_type": "stream",
     "text": [
      "[1, 2, 3, 4, 5, 6, 'gori-mam'] <class 'list'>\n"
     ]
    }
   ],
   "source": [
    "#collection datatype - list tupple set dictionary frozenset\n",
    "# a list is set of elements sepreted by comma\n",
    "#list constructor is list()\n",
    "#list is mutable\n",
    "#list support slicing\n",
    "#list support indexing\n",
    "#list litreal []\n",
    "#list have so many method\n",
    "#list support nesting\n",
    "d=[1,2,3,4,5,6,\"gori-mam\"]\n",
    "print(d,type(d))"
   ]
  },
  {
   "cell_type": "code",
   "execution_count": 39,
   "metadata": {},
   "outputs": [
    {
     "name": "stdout",
     "output_type": "stream",
     "text": [
      "[] <class 'list'>\n"
     ]
    }
   ],
   "source": [
    "a=list() #constructor  (khali list bannane ke liye)\n",
    "print(a,type(a))"
   ]
  },
  {
   "cell_type": "code",
   "execution_count": 40,
   "metadata": {},
   "outputs": [
    {
     "name": "stdout",
     "output_type": "stream",
     "text": [
      "[] <class 'list'>\n"
     ]
    }
   ],
   "source": [
    "a=[]\n",
    "print(a,type(a))"
   ]
  },
  {
   "cell_type": "code",
   "execution_count": 41,
   "metadata": {},
   "outputs": [
    {
     "name": "stdout",
     "output_type": "stream",
     "text": [
      "1\n",
      "[1, 2, 3, 4, 5]\n",
      "['hello', 7, 5, 3, 1]\n",
      "1 4 6\n"
     ]
    }
   ],
   "source": [
    "d=[1,2,3,4,5,6,7,8,\"hello\"]\n",
    "print(d[0])   #indexing\n",
    "print(d[0:5]) #slicing\n",
    "print(d[-1::-2])\n",
    "print(d[0],d[3],d[5])\n"
   ]
  },
  {
   "cell_type": "code",
   "execution_count": 42,
   "metadata": {},
   "outputs": [
    {
     "data": {
      "text/plain": [
       "[1, 2, 34, 58, 67, 98, 'hello']"
      ]
     },
     "execution_count": 42,
     "metadata": {},
     "output_type": "execute_result"
    }
   ],
   "source": [
    "d=[1,2,34,58,67,98,\"hello\"]\n",
    "d[0::]"
   ]
  },
  {
   "cell_type": "code",
   "execution_count": 43,
   "metadata": {},
   "outputs": [
    {
     "data": {
      "text/plain": [
       "[1, 2, 34, 58, 67, 98, 'hello']"
      ]
     },
     "execution_count": 43,
     "metadata": {},
     "output_type": "execute_result"
    }
   ],
   "source": [
    "d[::]"
   ]
  },
  {
   "cell_type": "code",
   "execution_count": 44,
   "metadata": {},
   "outputs": [
    {
     "data": {
      "text/plain": [
       "[1, 2, 3, 2, 4]"
      ]
     },
     "execution_count": 44,
     "metadata": {},
     "output_type": "execute_result"
    }
   ],
   "source": [
    "a=[1,2,3]\n",
    "b=[2,4]\n",
    "a+b #concatination"
   ]
  },
  {
   "cell_type": "code",
   "execution_count": 45,
   "metadata": {},
   "outputs": [
    {
     "name": "stdout",
     "output_type": "stream",
     "text": [
      "[1, 2, 3, 4, 66, 7, 8, ['hello', 'ji']]\n"
     ]
    }
   ],
   "source": [
    "e=[1,2,3,4,66,7,8]\n",
    "f=[\"hello\",\"ji\"]\n",
    "e.append(f)\n",
    "print(e)\n"
   ]
  },
  {
   "cell_type": "code",
   "execution_count": 46,
   "metadata": {},
   "outputs": [
    {
     "name": "stdout",
     "output_type": "stream",
     "text": [
      "[1, 2, 3, 4, 5, 6, 7] 526052145920\n",
      "[1, 2, 3, 4, 5, 6, 7, 29]\n",
      "[1, 2, 3, 4, 5, 6, 7, 29] 526052145920\n"
     ]
    }
   ],
   "source": [
    "f=[1,2,3,4,5,6,7]\n",
    "print(f,id(f))\n",
    "f.append(29)\n",
    "print(f)\n",
    "print(f,id(f)) #thats why list is mutable - jab hum kuch change b kar rhe h to id dono matter me same aari hai"
   ]
  },
  {
   "cell_type": "code",
   "execution_count": 47,
   "metadata": {},
   "outputs": [
    {
     "name": "stdout",
     "output_type": "stream",
     "text": [
      "[]\n",
      "[[1, 2, 3, 4]]\n"
     ]
    }
   ],
   "source": [
    "l=[1,2,3,4,5,6]\n",
    "l.clear()\n",
    "print(l)\n",
    "l.append([1,2,3,4])\n",
    "print(l) #list nesting is list me list aa skte hai ex- jaise yaha list me dusri list hai or uska index number 0 hai\n",
    "\n"
   ]
  },
  {
   "cell_type": "code",
   "execution_count": null,
   "metadata": {},
   "outputs": [],
   "source": []
  }
 ],
 "metadata": {
  "kernelspec": {
   "display_name": "Python 3",
   "language": "python",
   "name": "python3"
  },
  "language_info": {
   "codemirror_mode": {
    "name": "ipython",
    "version": 3
   },
   "file_extension": ".py",
   "mimetype": "text/x-python",
   "name": "python",
   "nbconvert_exporter": "python",
   "pygments_lexer": "ipython3",
   "version": "3.11.3"
  },
  "orig_nbformat": 4
 },
 "nbformat": 4,
 "nbformat_minor": 2
}
