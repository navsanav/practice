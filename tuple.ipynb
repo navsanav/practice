{
 "cells": [
  {
   "cell_type": "code",
   "execution_count": 1,
   "metadata": {},
   "outputs": [],
   "source": [
    "#tuple\n",
    "#immutable datatype\n",
    "#tupple is set of sequence of elements\n",
    "#tuple support concatination/concate\n",
    "#tuple constructor is tuple()\n",
    "#tuple litrel is ()\n",
    "#tuple is faster then list\n",
    "#tuple is mutable(hashable(not chanagable))\n",
    "#tuple support indexing\n",
    "#tuple support slicing\n",
    "#tupple support nesting\n",
    "#tupple have 2 method like indexing.count\n",
    "#immutable datatype me agar 2 ya 2 se jyaga datatype structruwise same ho to unki id same hogi like tuple\n",
    "#a=(1,2,3,4,5,6,7)\n",
    "#b=(1,2,3,4,5,6,7)\n",
    "to inki id same hogi\n"
   ]
  },
  {
   "cell_type": "code",
   "execution_count": 9,
   "metadata": {},
   "outputs": [
    {
     "name": "stdout",
     "output_type": "stream",
     "text": [
      "() <class 'tuple'>\n",
      "140730909509080\n"
     ]
    }
   ],
   "source": [
    "a=tuple()  #making tuple with help of constructor\n",
    "print(a,type(a))\n",
    "print(id(a))"
   ]
  },
  {
   "cell_type": "code",
   "execution_count": 10,
   "metadata": {},
   "outputs": [
    {
     "name": "stdout",
     "output_type": "stream",
     "text": [
      "() 140730909509080 <class 'tuple'>\n"
     ]
    }
   ],
   "source": [
    "#making tuple with help of litrel\n",
    "b=()\n",
    "print(b,id(b),type(b))"
   ]
  },
  {
   "cell_type": "code",
   "execution_count": 17,
   "metadata": {},
   "outputs": [
    {
     "name": "stdout",
     "output_type": "stream",
     "text": [
      "(1, 2, 3, 4, 'sandeep', [1, 2, 3, 4, 5, 6], (1, 2, 3))\n"
     ]
    },
    {
     "data": {
      "text/plain": [
       "4"
      ]
     },
     "execution_count": 17,
     "metadata": {},
     "output_type": "execute_result"
    }
   ],
   "source": [
    "#tuple is immutable\n",
    "a=(1,2,3,4,\"sandeep\", [1,2,3,4,5,6],(1,2,3))\n",
    "print(a)\n",
    "a.count(1)\n",
    "a.index(\"sandeep\")\n",
    "\n",
    "#tuple me sirf do e method hai jo bhi amend ni krte kuch isliye ye immutable hai"
   ]
  },
  {
   "cell_type": "code",
   "execution_count": 18,
   "metadata": {},
   "outputs": [
    {
     "name": "stdout",
     "output_type": "stream",
     "text": [
      "(1, 2, 3, 4, 5, 6)\n"
     ]
    }
   ],
   "source": [
    "a=(1,2,3,4,5)\n",
    "b=(6,)\n",
    "print(a+b) #tuple support concate"
   ]
  },
  {
   "cell_type": "code",
   "execution_count": 19,
   "metadata": {},
   "outputs": [
    {
     "name": "stdout",
     "output_type": "stream",
     "text": [
      "(1, 2, 3, 4, 5) 106384198848\n",
      "(6,) 106417707168\n",
      "(1, 2, 3, 4, 5, 6) 106355949920\n"
     ]
    }
   ],
   "source": [
    "a=(1,2,3,4,5)\n",
    "b=(6,)\n",
    "c=(a+b)\n",
    "print(a,id(a))\n",
    "print(b,id(b))\n",
    "print(c,id(c)) #teeno ki id alag alag hogi concate kre tab"
   ]
  },
  {
   "cell_type": "code",
   "execution_count": 22,
   "metadata": {},
   "outputs": [
    {
     "data": {
      "text/plain": [
       "(6, 4, 2)"
      ]
     },
     "execution_count": 22,
     "metadata": {},
     "output_type": "execute_result"
    }
   ],
   "source": [
    "#tuple support slicing\n",
    "c[1:5]\n",
    "c[0:]\n",
    "c[-1::-2]\n"
   ]
  },
  {
   "cell_type": "code",
   "execution_count": 23,
   "metadata": {},
   "outputs": [
    {
     "data": {
      "text/plain": [
       "14"
      ]
     },
     "execution_count": 23,
     "metadata": {},
     "output_type": "execute_result"
    }
   ],
   "source": [
    "#tuple support nesting\n",
    "c=(1,2,3,4,5,(12,13,14),(100,200))\n",
    "c[5][2]"
   ]
  },
  {
   "cell_type": "code",
   "execution_count": 25,
   "metadata": {},
   "outputs": [
    {
     "data": {
      "text/plain": [
       "200"
      ]
     },
     "execution_count": 25,
     "metadata": {},
     "output_type": "execute_result"
    }
   ],
   "source": [
    "c[6][1]"
   ]
  },
  {
   "cell_type": "code",
   "execution_count": null,
   "metadata": {},
   "outputs": [],
   "source": []
  }
 ],
 "metadata": {
  "kernelspec": {
   "display_name": "Python 3",
   "language": "python",
   "name": "python3"
  },
  "language_info": {
   "codemirror_mode": {
    "name": "ipython",
    "version": 3
   },
   "file_extension": ".py",
   "mimetype": "text/x-python",
   "name": "python",
   "nbconvert_exporter": "python",
   "pygments_lexer": "ipython3",
   "version": "3.11.3"
  },
  "orig_nbformat": 4
 },
 "nbformat": 4,
 "nbformat_minor": 2
}
