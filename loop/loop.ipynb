{
 "cells": [
  {
   "cell_type": "code",
   "execution_count": 1,
   "metadata": {},
   "outputs": [],
   "source": [
    "#loop\n",
    "#for loop: when number of iteration is known use forloop\n",
    "#while loop:when number of iteration is not known use whileloop"
   ]
  },
  {
   "cell_type": "code",
   "execution_count": 1,
   "metadata": {},
   "outputs": [],
   "source": [
    "#while loop\n",
    "#syntex of while loop\n",
    "#while condition:\n",
    " #while statement(s)\n",
    " #increment or decremnt on intializer\n"
   ]
  },
  {
   "cell_type": "code",
   "execution_count": 2,
   "metadata": {},
   "outputs": [
    {
     "name": "stdout",
     "output_type": "stream",
     "text": [
      "1 hwllo world\n",
      "2 hwllo world\n",
      "3 hwllo world\n",
      "4 hwllo world\n",
      "5 hwllo world\n",
      "6 hwllo world\n",
      "7 hwllo world\n",
      "8 hwllo world\n",
      "9 hwllo world\n"
     ]
    }
   ],
   "source": [
    "i=1\n",
    "while i<10:\n",
    "    print(i,\"hwllo world\")\n",
    "    i+=1\n"
   ]
  },
  {
   "cell_type": "code",
   "execution_count": 2,
   "metadata": {},
   "outputs": [
    {
     "name": "stdout",
     "output_type": "stream",
     "text": [
      "9 hello world\n",
      "8 hello world\n",
      "7 hello world\n",
      "6 hello world\n",
      "5 hello world\n",
      "4 hello world\n",
      "3 hello world\n",
      "2 hello world\n",
      "1 hello world\n"
     ]
    }
   ],
   "source": [
    "i=1\n",
    "while i<10:\n",
    "     print(10-i,\"hello world\")\n",
    "     i+=1\n",
    "\n",
    "\n",
    "\n"
   ]
  },
  {
   "cell_type": "code",
   "execution_count": 13,
   "metadata": {},
   "outputs": [
    {
     "name": "stdout",
     "output_type": "stream",
     "text": [
      "10 hello world\n",
      "8 hello world\n",
      "6 hello world\n",
      "4 hello world\n",
      "2 hello world\n"
     ]
    }
   ],
   "source": [
    "i=2\n",
    "while i<12:\n",
    "      print(12-i,\"hello world\")\n",
    "      i+=2\n",
    "\n",
    "\n",
    "\n"
   ]
  },
  {
   "cell_type": "code",
   "execution_count": 14,
   "metadata": {},
   "outputs": [],
   "source": [
    "i=1\n",
    "while i>13:\n",
    "    if i==5:\n",
    "        i=i+1\n",
    "        continue\n",
    "    print(i,\"hello world\")\n",
    "    i=i+1"
   ]
  },
  {
   "cell_type": "code",
   "execution_count": null,
   "metadata": {},
   "outputs": [],
   "source": []
  }
 ],
 "metadata": {
  "kernelspec": {
   "display_name": "Python 3",
   "language": "python",
   "name": "python3"
  },
  "language_info": {
   "codemirror_mode": {
    "name": "ipython",
    "version": 3
   },
   "file_extension": ".py",
   "mimetype": "text/x-python",
   "name": "python",
   "nbconvert_exporter": "python",
   "pygments_lexer": "ipython3",
   "version": "3.11.3"
  },
  "orig_nbformat": 4
 },
 "nbformat": 4,
 "nbformat_minor": 2
}
