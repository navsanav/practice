{
 "cells": [
  {
   "cell_type": "code",
   "execution_count": 1,
   "metadata": {},
   "outputs": [],
   "source": [
    "#if condition:\n",
    "   #statement(s)\n",
    "#else:\n",
    "   #statement(s)"
   ]
  },
  {
   "cell_type": "code",
   "execution_count": 3,
   "metadata": {},
   "outputs": [
    {
     "name": "stdout",
     "output_type": "stream",
     "text": [
      "going to hell\n"
     ]
    }
   ],
   "source": [
    "user=input(\"enter your destination\")\n",
    "if user==\"a\":\n",
    "    print(\"going to bali\")\n",
    "else:\n",
    "    print(\"going to hell\")\n",
    "\n",
    "\n"
   ]
  },
  {
   "cell_type": "code",
   "execution_count": 5,
   "metadata": {},
   "outputs": [
    {
     "data": {
      "text/plain": [
       "'aa'"
      ]
     },
     "execution_count": 5,
     "metadata": {},
     "output_type": "execute_result"
    }
   ],
   "source": [
    "user\n",
    "#jo input diya wo value aayegi result me"
   ]
  },
  {
   "cell_type": "code",
   "execution_count": 6,
   "metadata": {},
   "outputs": [],
   "source": [
    "#python works on indentation\n",
    "#jaise e hmne koi if else (conditional programing ki ) condition use ki toh if k baad niche space create hojata hai\n",
    "#to jaise e hmne koi code likha aur koi value put ki to intrpreter jaise e value match krega wo us condition ka output dedega"
   ]
  },
  {
   "cell_type": "code",
   "execution_count": null,
   "metadata": {},
   "outputs": [],
   "source": []
  },
  {
   "cell_type": "code",
   "execution_count": null,
   "metadata": {},
   "outputs": [],
   "source": []
  },
  {
   "cell_type": "code",
   "execution_count": 2,
   "metadata": {},
   "outputs": [],
   "source": [
    "#if elif else\n",
    "#nested if else\n",
    "#nested if elif else\n",
    "#ternary oprators using if elif else"
   ]
  },
  {
   "cell_type": "code",
   "execution_count": 7,
   "metadata": {},
   "outputs": [
    {
     "name": "stdout",
     "output_type": "stream",
     "text": [
      "masti karo\n"
     ]
    }
   ],
   "source": [
    "#if elif else\n",
    "age=int(input(\"enter your age\"))\n",
    "if age<18:\n",
    "    print(\"you cant vote\")\n",
    "elif age>=18 and age<=60:\n",
    "    print(\"you can vote\")\n",
    "elif age>60 and age<120:\n",
    "    print(\"take rest\")\n",
    "else:\n",
    "    print(\"masti karo\")\n",
    "\n"
   ]
  },
  {
   "cell_type": "code",
   "execution_count": 11,
   "metadata": {},
   "outputs": [
    {
     "name": "stdout",
     "output_type": "stream",
     "text": [
      "you cant vote\n",
      "play and live\n"
     ]
    }
   ],
   "source": [
    "#nested if elif else\n",
    "#if elif else\n",
    "age=int(input(\"enter your age\"))\n",
    "if age<18:\n",
    "    print(\"you cant vote\")\n",
    "    if age>0 and age<=5:\n",
    "        print(\"i will give you choco\")\n",
    "    elif age>5 and age<=10:\n",
    "        print(\"i will you give you toy car\")\n",
    "    elif age>10 and age<18:\n",
    "        print(\"play and live\")\n",
    "elif age>=18 and age<=60:\n",
    "    print(\"you can vote\")\n",
    "elif age>60 and age<120:\n",
    "    print(\"take rest\")\n",
    "else:\n",
    "    print(\"masti karo\")\n",
    "\n"
   ]
  },
  {
   "cell_type": "code",
   "execution_count": 16,
   "metadata": {},
   "outputs": [
    {
     "name": "stdout",
     "output_type": "stream",
     "text": [
      "you cant vote\n",
      "i will give you choco\n",
      "it will be dariy milk\n"
     ]
    }
   ],
   "source": [
    "#nested if elif else\n",
    "#if elif else\n",
    "age=int(input(\"enter your age\"))\n",
    "if age<18:\n",
    "    print(\"you cant vote\")\n",
    "    if age>0 and age<=5:\n",
    "        print(\"i will give you choco\")\n",
    "        if age==1:\n",
    "            print(\"will give you munch\")\n",
    "        elif age>=2 and age<=3:\n",
    "            print(\"will give you kitkat\")\n",
    "        elif age>3 and age<=5:\n",
    "            print(\"it will be dariy milk\")\n",
    "    elif age>5 and age<=10:\n",
    "        print(\"i will you give you toy car\")\n",
    "    elif age>10 and age<18:\n",
    "        print(\"play and live\")\n",
    "elif age>=18 and age<=60:\n",
    "    print(\"you can vote\")\n",
    "elif age>60 and age<120:\n",
    "    print(\"take rest\")\n",
    "else:\n",
    "    print(\"masti karo\")\n",
    "\n"
   ]
  },
  {
   "cell_type": "code",
   "execution_count": 21,
   "metadata": {},
   "outputs": [
    {
     "name": "stdout",
     "output_type": "stream",
     "text": [
      "go to education\n",
      "go to collage\n"
     ]
    }
   ],
   "source": [
    "#nested if else\n",
    "age=int(input(\"enter your age\"))\n",
    "if age>3 and age<26:\n",
    "    print(\"go to education\")\n",
    "    if age>=3 and age<=15:\n",
    "        print(\"you should go to school\")\n",
    "    else:\n",
    "        if age>15 and age<=17:\n",
    "            print(\"go to secondary school\")\n",
    "        else:\n",
    "            print(\"go to collage\")\n",
    "else:\n",
    "    print(\"you should go to work\")"
   ]
  },
  {
   "cell_type": "code",
   "execution_count": null,
   "metadata": {},
   "outputs": [],
   "source": []
  }
 ],
 "metadata": {
  "kernelspec": {
   "display_name": "Python 3",
   "language": "python",
   "name": "python3"
  },
  "language_info": {
   "codemirror_mode": {
    "name": "ipython",
    "version": 3
   },
   "file_extension": ".py",
   "mimetype": "text/x-python",
   "name": "python",
   "nbconvert_exporter": "python",
   "pygments_lexer": "ipython3",
   "version": "3.11.3"
  },
  "orig_nbformat": 4
 },
 "nbformat": 4,
 "nbformat_minor": 2
}
